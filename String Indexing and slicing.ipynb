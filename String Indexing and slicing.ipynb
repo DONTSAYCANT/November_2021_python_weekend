{
 "cells": [
  {
   "cell_type": "code",
   "execution_count": null,
   "metadata": {},
   "outputs": [],
   "source": [
    "#String\n",
    "\n",
    "#\" \" or ' ' ===> string\n",
    "\n",
    "#collection of chars \n",
    "\n",
    "#char ===> single letter\n",
    "\n",
    "a = \"python\"\n",
    "\n",
    "#\"P\" \"y\" \"t\" \"h\" \"o\" \"n\""
   ]
  },
  {
   "cell_type": "code",
   "execution_count": 2,
   "metadata": {},
   "outputs": [
    {
     "name": "stdout",
     "output_type": "stream",
     "text": [
      "Hi world, welcome to python\n",
      "Hi world, welcome to python\n"
     ]
    }
   ],
   "source": [
    "a = \"Hi world, welcome to python\"\n",
    "\n",
    "print(a)\n",
    "\n",
    "print('Hi world, welcome to python')"
   ]
  },
  {
   "cell_type": "code",
   "execution_count": 3,
   "metadata": {},
   "outputs": [
    {
     "name": "stdout",
     "output_type": "stream",
     "text": [
      "I'm fine\n"
     ]
    }
   ],
   "source": [
    "print(\"I'm fine\")"
   ]
  },
  {
   "cell_type": "code",
   "execution_count": null,
   "metadata": {},
   "outputs": [],
   "source": [
    "I'm fine #escape sequence"
   ]
  },
  {
   "cell_type": "code",
   "execution_count": 5,
   "metadata": {},
   "outputs": [
    {
     "name": "stdout",
     "output_type": "stream",
     "text": [
      "I'm fine\n",
      "i'm fine\n"
     ]
    }
   ],
   "source": [
    "print(\"I'm fine\")\n",
    "\n",
    "print('i\\'m fine') #escape sequence \\"
   ]
  },
  {
   "cell_type": "code",
   "execution_count": 7,
   "metadata": {},
   "outputs": [
    {
     "name": "stdout",
     "output_type": "stream",
     "text": [
      "I am using \" inside the string \n"
     ]
    }
   ],
   "source": [
    "print('I am using \" inside the string ')"
   ]
  },
  {
   "cell_type": "code",
   "execution_count": 8,
   "metadata": {},
   "outputs": [
    {
     "name": "stdout",
     "output_type": "stream",
     "text": [
      "I am using \" inside the string \n"
     ]
    }
   ],
   "source": [
    "print(\"I am using \\\" inside the string \")"
   ]
  },
  {
   "cell_type": "code",
   "execution_count": 9,
   "metadata": {},
   "outputs": [
    {
     "name": "stdout",
     "output_type": "stream",
     "text": [
      "hello\n",
      "welcome to python\n",
      "welcome to groovy\n",
      "please finish task on time\n"
     ]
    }
   ],
   "source": [
    "#print function\n",
    "\n",
    "print(\"hello\")\n",
    "print(\"welcome to python\")\n",
    "print(\"welcome to groovy\")\n",
    "print(\"please finish task on time\")"
   ]
  },
  {
   "cell_type": "code",
   "execution_count": 11,
   "metadata": {},
   "outputs": [
    {
     "name": "stdout",
     "output_type": "stream",
     "text": [
      "hello*welcome to python%welcome to groovy\tplease finish task on time\n",
      "hello\n"
     ]
    }
   ],
   "source": [
    "print(\"hello\", end=\"*\")\n",
    "print(\"welcome to python\",end=\"%\")\n",
    "print(\"welcome to groovy\",end=\"\\t\") #\\t ==> tab\n",
    "print(\"please finish task on time\",end=\"\\n\")#\\n new line\n",
    "print(\"hello\")"
   ]
  },
  {
   "cell_type": "code",
   "execution_count": 12,
   "metadata": {},
   "outputs": [
    {
     "name": "stdout",
     "output_type": "stream",
     "text": [
      "hellohaipython"
     ]
    }
   ],
   "source": [
    "print(\"hello\",end='')\n",
    "print(\"hai\",end='')\n",
    "print(\"python\",end='')"
   ]
  },
  {
   "cell_type": "code",
   "execution_count": null,
   "metadata": {},
   "outputs": [],
   "source": [
    "print(\"hello\")\n",
    "\n",
    "print(\"hello\",end=\"\\n\")"
   ]
  },
  {
   "cell_type": "code",
   "execution_count": 13,
   "metadata": {},
   "outputs": [
    {
     "name": "stdout",
     "output_type": "stream",
     "text": [
      "hello#####hello#####"
     ]
    }
   ],
   "source": [
    "print(\"hello\",end=\"#####\")\n",
    "print(\"hello\",end=\"#####\")"
   ]
  },
  {
   "cell_type": "code",
   "execution_count": 15,
   "metadata": {},
   "outputs": [
    {
     "name": "stdout",
     "output_type": "stream",
     "text": [
      "hello world python value*"
     ]
    }
   ],
   "source": [
    "print(\"hello\",\"world\",\"python\",\"value\", end=\"*\")"
   ]
  },
  {
   "cell_type": "code",
   "execution_count": null,
   "metadata": {},
   "outputs": [],
   "source": []
  }
 ],
 "metadata": {
  "kernelspec": {
   "display_name": "Python 3",
   "language": "python",
   "name": "python3"
  },
  "language_info": {
   "codemirror_mode": {
    "name": "ipython",
    "version": 3
   },
   "file_extension": ".py",
   "mimetype": "text/x-python",
   "name": "python",
   "nbconvert_exporter": "python",
   "pygments_lexer": "ipython3",
   "version": "3.7.6"
  }
 },
 "nbformat": 4,
 "nbformat_minor": 4
}
