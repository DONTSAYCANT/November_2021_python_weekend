{
 "cells": [
  {
   "cell_type": "code",
   "execution_count": 2,
   "metadata": {},
   "outputs": [
    {
     "name": "stdout",
     "output_type": "stream",
     "text": [
      "Hi world, welcome to python\n",
      "Hi world, welcome to python\n"
     ]
    }
   ],
   "source": [
    "a = \"Hi world, welcome to python\"\n",
    "\n",
    "print(a)\n",
    "\n",
    "print('Hi world, welcome to python')"
   ]
  },
  {
   "cell_type": "code",
   "execution_count": 3,
   "metadata": {},
   "outputs": [
    {
     "name": "stdout",
     "output_type": "stream",
     "text": [
      "I'm fine\n"
     ]
    }
   ],
   "source": [
    "print(\"I'm fine\")"
   ]
  },
  {
   "cell_type": "code",
   "execution_count": null,
   "metadata": {},
   "outputs": [],
   "source": [
    "I'm fine #escape sequence"
   ]
  },
  {
   "cell_type": "code",
   "execution_count": 5,
   "metadata": {},
   "outputs": [
    {
     "name": "stdout",
     "output_type": "stream",
     "text": [
      "I'm fine\n",
      "i'm fine\n"
     ]
    }
   ],
   "source": [
    "print(\"I'm fine\")\n",
    "\n",
    "print('i\\'m fine') #escape sequence \\"
   ]
  },
  {
   "cell_type": "code",
   "execution_count": 7,
   "metadata": {},
   "outputs": [
    {
     "name": "stdout",
     "output_type": "stream",
     "text": [
      "I am using \" inside the string \n"
     ]
    }
   ],
   "source": [
    "print('I am using \" inside the string ')"
   ]
  },
  {
   "cell_type": "code",
   "execution_count": 8,
   "metadata": {},
   "outputs": [
    {
     "name": "stdout",
     "output_type": "stream",
     "text": [
      "I am using \" inside the string \n"
     ]
    }
   ],
   "source": [
    "print(\"I am using \\\" inside the string \")"
   ]
  },
  {
   "cell_type": "code",
   "execution_count": 9,
   "metadata": {},
   "outputs": [
    {
     "name": "stdout",
     "output_type": "stream",
     "text": [
      "hello\n",
      "welcome to python\n",
      "welcome to groovy\n",
      "please finish task on time\n"
     ]
    }
   ],
   "source": [
    "#print function\n",
    "\n",
    "print(\"hello\")\n",
    "print(\"welcome to python\")\n",
    "print(\"welcome to groovy\")\n",
    "print(\"please finish task on time\")"
   ]
  },
  {
   "cell_type": "code",
   "execution_count": 11,
   "metadata": {},
   "outputs": [
    {
     "name": "stdout",
     "output_type": "stream",
     "text": [
      "hello*welcome to python%welcome to groovy\tplease finish task on time\n",
      "hello\n"
     ]
    }
   ],
   "source": [
    "print(\"hello\", end=\"*\")\n",
    "print(\"welcome to python\",end=\"%\")\n",
    "print(\"welcome to groovy\",end=\"\\t\") #\\t ==> tab\n",
    "print(\"please finish task on time\",end=\"\\n\")#\\n new line\n",
    "print(\"hello\")"
   ]
  },
  {
   "cell_type": "code",
   "execution_count": 12,
   "metadata": {},
   "outputs": [
    {
     "name": "stdout",
     "output_type": "stream",
     "text": [
      "hellohaipython"
     ]
    }
   ],
   "source": [
    "print(\"hello\",end='')\n",
    "print(\"hai\",end='')\n",
    "print(\"python\",end='')"
   ]
  },
  {
   "cell_type": "code",
   "execution_count": null,
   "metadata": {},
   "outputs": [],
   "source": [
    "print(\"hello\")\n",
    "\n",
    "print(\"hello\",end=\"\\n\")"
   ]
  },
  {
   "cell_type": "code",
   "execution_count": 13,
   "metadata": {},
   "outputs": [
    {
     "name": "stdout",
     "output_type": "stream",
     "text": [
      "hello#####hello#####"
     ]
    }
   ],
   "source": [
    "print(\"hello\",end=\"#####\")\n",
    "print(\"hello\",end=\"#####\")"
   ]
  },
  {
   "cell_type": "code",
   "execution_count": 15,
   "metadata": {},
   "outputs": [
    {
     "name": "stdout",
     "output_type": "stream",
     "text": [
      "hello world python value*"
     ]
    }
   ],
   "source": [
    "print(\"hello\",\"world\",\"python\",\"value\", end=\"*\")"
   ]
  },
  {
   "cell_type": "code",
   "execution_count": 3,
   "metadata": {},
   "outputs": [
    {
     "name": "stdout",
     "output_type": "stream",
     "text": [
      "welcome to python\n",
      "welcome to python\n",
      " welcome to python week end class\n",
      "Tjis class will explain about string concepts and indexing + slicing\n",
      "Please listen carefully\n",
      "\n",
      " welcome to python week end class\n",
      "Tjis class will explain about string concepts and indexing + slicing\n",
      "Please listen carefully\n",
      "\n"
     ]
    }
   ],
   "source": [
    "print(\"welcome to python\")\n",
    "\n",
    "print('welcome to python')\n",
    "\n",
    "print(\"\"\" welcome to python week end class\n",
    "Tjis class will explain about string concepts and indexing + slicing\n",
    "Please listen carefully\n",
    "\"\"\")\n",
    "\n",
    "print(''' welcome to python week end class\n",
    "Tjis class will explain about string concepts and indexing + slicing\n",
    "Please listen carefully\n",
    "''')"
   ]
  },
  {
   "cell_type": "markdown",
   "metadata": {},
   "source": [
    "## String Indexing and Slicing"
   ]
  },
  {
   "cell_type": "code",
   "execution_count": null,
   "metadata": {},
   "outputs": [],
   "source": [
    "#String\n",
    "\n",
    "#\" \" or ' ' ===> string\n",
    "\n",
    "#collection of chars \n",
    "\n",
    "#char ===> single letter\n",
    "\n",
    "a = \"python\"\n",
    "\n",
    "#\"P\" \"y\" \"t\" \"h\" \"o\" \"n\""
   ]
  },
  {
   "cell_type": "code",
   "execution_count": 4,
   "metadata": {},
   "outputs": [
    {
     "name": "stdout",
     "output_type": "stream",
     "text": [
      "python\n",
      "<class 'str'>\n"
     ]
    }
   ],
   "source": [
    "#Indexing:\n",
    "\n",
    "#Forward indexing \n",
    "#Reverse indexing\n",
    "\n",
    "a = \"python\"\n",
    "\n",
    "print(a)\n",
    "print(type(a))"
   ]
  },
  {
   "cell_type": "code",
   "execution_count": null,
   "metadata": {},
   "outputs": [],
   "source": [
    "#[]  ===> indexing purpose\n",
    "\n",
    "#() ==> function call"
   ]
  },
  {
   "cell_type": "code",
   "execution_count": 5,
   "metadata": {},
   "outputs": [
    {
     "name": "stdout",
     "output_type": "stream",
     "text": [
      "p\n",
      "n\n",
      "h\n",
      "h\n"
     ]
    }
   ],
   "source": [
    "a = \"python\"\n",
    "\n",
    "print(a[0])\n",
    "print(a[-1])\n",
    "print(a[-3])\n",
    "print(a[3])"
   ]
  },
  {
   "cell_type": "code",
   "execution_count": 6,
   "metadata": {},
   "outputs": [
    {
     "ename": "TypeError",
     "evalue": "'float' object is not subscriptable",
     "output_type": "error",
     "traceback": [
      "\u001b[1;31m---------------------------------------------------------------------------\u001b[0m",
      "\u001b[1;31mTypeError\u001b[0m                                 Traceback (most recent call last)",
      "\u001b[1;32m<ipython-input-6-2400ad5cb415>\u001b[0m in \u001b[0;36m<module>\u001b[1;34m\u001b[0m\n\u001b[0;32m      1\u001b[0m \u001b[0ma\u001b[0m \u001b[1;33m=\u001b[0m \u001b[1;36m10.000\u001b[0m\u001b[1;33m\u001b[0m\u001b[1;33m\u001b[0m\u001b[0m\n\u001b[1;32m----> 2\u001b[1;33m \u001b[0mprint\u001b[0m\u001b[1;33m(\u001b[0m\u001b[0ma\u001b[0m\u001b[1;33m[\u001b[0m\u001b[1;36m0\u001b[0m\u001b[1;33m]\u001b[0m\u001b[1;33m)\u001b[0m\u001b[1;33m\u001b[0m\u001b[1;33m\u001b[0m\u001b[0m\n\u001b[0m",
      "\u001b[1;31mTypeError\u001b[0m: 'float' object is not subscriptable"
     ]
    }
   ],
   "source": [
    "a = 10.000\n",
    "print(a[0])"
   ]
  },
  {
   "cell_type": "code",
   "execution_count": 7,
   "metadata": {},
   "outputs": [
    {
     "name": "stdout",
     "output_type": "stream",
     "text": [
      "e\n",
      "n\n",
      "e\n",
      "u\n",
      "c\n",
      "o\n",
      "o\n",
      "g\n",
      "f\n",
      "c\n"
     ]
    }
   ],
   "source": [
    "a = \"computer_science Information_Technology\"\n",
    "\n",
    "print(a[12]) #e\n",
    "print(a[-12]) #n\n",
    "print(a[15]) #e\n",
    "print(a[4]) #u\n",
    "print(a[10]) #c\n",
    "print(a[-3]) #o\n",
    "print(a[-5]) #o\n",
    "print(a[-2]) #g\n",
    "print(a[-20]) #f\n",
    "print(a[14]) #c"
   ]
  },
  {
   "cell_type": "markdown",
   "metadata": {},
   "source": [
    "## SLicing"
   ]
  },
  {
   "cell_type": "markdown",
   "metadata": {},
   "source": [
    "### TYPE 1:"
   ]
  },
  {
   "cell_type": "code",
   "execution_count": 8,
   "metadata": {},
   "outputs": [
    {
     "name": "stdout",
     "output_type": "stream",
     "text": [
      "computer_science\n",
      "<class 'str'>\n",
      "16\n"
     ]
    }
   ],
   "source": [
    "a = \"computer_science\"\n",
    "\n",
    "print(a)\n",
    "print(type(a))\n",
    "print(len(a))\n",
    "\n",
    "#Slicing ===> extracting a substring from main string"
   ]
  },
  {
   "cell_type": "code",
   "execution_count": 9,
   "metadata": {
    "scrolled": true
   },
   "outputs": [
    {
     "name": "stdout",
     "output_type": "stream",
     "text": [
      "ter_s\n",
      "mputer_s\n",
      "ter_sc\n",
      "cienc\n"
     ]
    }
   ],
   "source": [
    "a = \"computer_science\"\n",
    "\n",
    "print(a[5:10])\n",
    "print(a[2:10])\n",
    "print(a[5:-5])\n",
    "print(a[10:15])\n",
    "\n",
    "#[starting index (including): Ending index (excluding): Index Interval (optional, default: 1)]"
   ]
  },
  {
   "cell_type": "code",
   "execution_count": null,
   "metadata": {},
   "outputs": [],
   "source": [
    "ter_s\n",
    "mputer_s\n",
    "ter_sc\n",
    "cienc\n"
   ]
  },
  {
   "cell_type": "code",
   "execution_count": null,
   "metadata": {},
   "outputs": [],
   "source": [
    "a = \"computer_science\"\n",
    "\n",
    "\"computer\" ==> all ways\n",
    "\"science\"  ===> all ways"
   ]
  },
  {
   "cell_type": "code",
   "execution_count": 20,
   "metadata": {},
   "outputs": [
    {
     "name": "stdout",
     "output_type": "stream",
     "text": [
      "computer\n",
      "computer\n",
      "computer\n",
      "computer\n",
      "computer\n",
      "computer\n"
     ]
    }
   ],
   "source": [
    "a = \"computer_science\"\n",
    "\n",
    "print(a[0:8])\n",
    "print(a[0:-8])\n",
    "print(a[-16:8])\n",
    "print(a[-16:-8])\n",
    "\n",
    "print(a[:8])\n",
    "print(a[:-8])\n"
   ]
  },
  {
   "cell_type": "code",
   "execution_count": 22,
   "metadata": {},
   "outputs": [
    {
     "name": "stdout",
     "output_type": "stream",
     "text": [
      "science\n",
      "science\n",
      "science\n",
      "science\n",
      "science\n",
      "science\n"
     ]
    }
   ],
   "source": [
    "#science\n",
    "\n",
    "\n",
    "a = \"computer_science\"\n",
    "print(a[9:16])\n",
    "print(a[9:100])\n",
    "print(a[9:])\n",
    "print(a[-7:])\n",
    "print(a[-7:16])\n",
    "print(a[-7:100])"
   ]
  },
  {
   "cell_type": "code",
   "execution_count": 21,
   "metadata": {},
   "outputs": [
    {
     "name": "stdout",
     "output_type": "stream",
     "text": [
      "computer\n"
     ]
    }
   ],
   "source": [
    "a = \"computer\"\n",
    "print(a[:])"
   ]
  },
  {
   "cell_type": "code",
   "execution_count": 24,
   "metadata": {},
   "outputs": [
    {
     "name": "stdout",
     "output_type": "stream",
     "text": [
      "science\n"
     ]
    }
   ],
   "source": [
    "a = \"computer_science\"\n",
    "\n",
    "print(a[-7:])"
   ]
  },
  {
   "cell_type": "markdown",
   "metadata": {},
   "source": [
    "### Type 2"
   ]
  },
  {
   "cell_type": "code",
   "execution_count": null,
   "metadata": {},
   "outputs": [],
   "source": [
    "a = \"computer_science\"\n",
    "\n",
    "print(a[2:5]) #mpu\n",
    "print(a[2:10])\n",
    "print(a[2:5:1])\n",
    "print(a[2:10:1])\n",
    "print(a[-15:-8:1])\n",
    "print(a[2:5:2])\n",
    "print(a[2:10:2])\n",
    "print(a[-15:-8:2])\n",
    "print(a[2:5:3])\n",
    "print(a[2:10:3])\n",
    "print(a[-15:-8:3])"
   ]
  },
  {
   "cell_type": "code",
   "execution_count": 25,
   "metadata": {},
   "outputs": [
    {
     "name": "stdout",
     "output_type": "stream",
     "text": [
      "mpu\n",
      "mputer_s\n",
      "mpu\n",
      "mputer_s\n",
      "omputer\n",
      "mu\n",
      "mue_\n",
      "optr\n",
      "m\n",
      "mt_\n",
      "our\n"
     ]
    }
   ],
   "source": [
    "a = \"computer_science\"\n",
    "\n",
    "print(a[2:5])\n",
    "print(a[2:10])\n",
    "print(a[2:5:1])\n",
    "print(a[2:10:1])\n",
    "print(a[-15:-8:1])\n",
    "print(a[2:5:2])\n",
    "print(a[2:10:2])\n",
    "print(a[-15:-8:2])\n",
    "print(a[2:5:3])\n",
    "print(a[2:10:3])\n",
    "print(a[-15:-8:3])\n"
   ]
  },
  {
   "cell_type": "code",
   "execution_count": null,
   "metadata": {},
   "outputs": [],
   "source": [
    "mpu\n",
    "mputer_s\n",
    "mpu\n",
    "mputer_s\n",
    "omputer\n",
    "mu\n",
    "mue_\n",
    "optr\n",
    "m\n",
    "mt_\n",
    "our\n"
   ]
  },
  {
   "cell_type": "code",
   "execution_count": null,
   "metadata": {},
   "outputs": [],
   "source": [
    "a = \"computer_science\"\n",
    "\n",
    "print(a[-14:15:2])\n",
    "print(a[12:15:1])\n",
    "print(a[-16:10:5])\n",
    "print(a[:10:2])\n",
    "print(a[:-8:3])\n",
    "print(a[:5:1])\n",
    "print(a[2::2])\n",
    "print(a[-10::2])\n",
    "print(a[12::3])\n",
    "print(a[13::6])\n",
    "print(a[10::100])"
   ]
  },
  {
   "cell_type": "code",
   "execution_count": 26,
   "metadata": {},
   "outputs": [
    {
     "name": "stdout",
     "output_type": "stream",
     "text": [
      "mue_cec\n",
      "enc\n",
      "ct\n",
      "cmue_\n",
      "cpe\n",
      "compu\n",
      "mue_cec\n",
      "e_cec\n",
      "ee\n",
      "n\n",
      "c\n"
     ]
    }
   ],
   "source": [
    "a = \"computer_science\"\n",
    "\n",
    "print(a[-14:15:2])\n",
    "print(a[12:15:1])\n",
    "print(a[-16:10:5])\n",
    "print(a[:10:2])\n",
    "print(a[:-8:3])\n",
    "print(a[:5:1])\n",
    "print(a[2::2])\n",
    "print(a[-10::2])\n",
    "print(a[12::3])\n",
    "print(a[13::6])\n",
    "print(a[10::100])\n",
    "\n",
    "print(a[::6])\n",
    "print(a[::3])\n"
   ]
  },
  {
   "cell_type": "code",
   "execution_count": null,
   "metadata": {},
   "outputs": [],
   "source": [
    "mue_cec\n",
    "enc\n",
    "ct\n",
    "cmue_\n",
    "cpe\n",
    "compu\n",
    "mue_cec\n",
    "e_cec\n",
    "ee\n",
    "n\n",
    "c\n"
   ]
  },
  {
   "cell_type": "markdown",
   "metadata": {},
   "source": [
    "## Type 3"
   ]
  },
  {
   "cell_type": "code",
   "execution_count": 27,
   "metadata": {},
   "outputs": [
    {
     "name": "stdout",
     "output_type": "stream",
     "text": [
      "mputer_s\n",
      "\n",
      "\n",
      "cs_retup\n"
     ]
    }
   ],
   "source": [
    "a = \"computer_science\"\n",
    "\n",
    "print(a[2:10:1])\n",
    "print(a[2:10:-1])\n",
    "print(a[10:2:1])\n",
    "print(a[10:2:-1])"
   ]
  },
  {
   "cell_type": "code",
   "execution_count": null,
   "metadata": {},
   "outputs": [],
   "source": [
    "mputer_s\n",
    "empty string\n",
    "empty string\n",
    "cs_retup\n"
   ]
  },
  {
   "cell_type": "code",
   "execution_count": null,
   "metadata": {},
   "outputs": [],
   "source": [
    "a = \"computer_science\"\n",
    "\n",
    "print(a[-3:3:3])\n",
    "print(a[3:-3:3])\n",
    "print(a[-3:3:-3])\n",
    "print(a[3:-3:-3])"
   ]
  },
  {
   "cell_type": "code",
   "execution_count": 28,
   "metadata": {},
   "outputs": [
    {
     "name": "stdout",
     "output_type": "stream",
     "text": [
      "\n",
      "pese\n",
      "ncru\n",
      "\n"
     ]
    }
   ],
   "source": [
    "a = \"computer_science\"\n",
    "\n",
    "print(a[-3:3:3])\n",
    "print(a[3:-3:3])\n",
    "print(a[-3:3:-3])\n",
    "print(a[3:-3:-3])\n"
   ]
  },
  {
   "cell_type": "code",
   "execution_count": null,
   "metadata": {},
   "outputs": [],
   "source": [
    "empty\n",
    "pese\n",
    "ncru\n",
    "empty\n"
   ]
  },
  {
   "cell_type": "code",
   "execution_count": null,
   "metadata": {},
   "outputs": [],
   "source": [
    "#Type 4 and 5"
   ]
  },
  {
   "cell_type": "markdown",
   "metadata": {},
   "source": [
    "## Type 4 and 5"
   ]
  },
  {
   "cell_type": "code",
   "execution_count": null,
   "metadata": {},
   "outputs": [],
   "source": [
    "a = \"computer_science\"\n",
    "\n",
    "print(a[5::3])\n",
    "print(a[5::-3])\n",
    "print(a[:5:3])\n",
    "print(a[:5:-3])\n",
    "\n",
    "print(a[5::5])\n",
    "print(a[5::-5])\n",
    "print(a[:5:5])\n",
    "print(a[:5:-5])\n",
    "\n",
    "\n",
    "print(a[::1])\n",
    "print(a[::-1]) #important\n",
    "\n",
    "print(a[::5])\n",
    "print(a[::-5])\n",
    "print(a[::3])\n",
    "print(a[::-3])\n",
    "\n"
   ]
  },
  {
   "cell_type": "code",
   "execution_count": 1,
   "metadata": {},
   "outputs": [
    {
     "name": "stdout",
     "output_type": "stream",
     "text": [
      "t_ic\n",
      "tm\n",
      "cp\n",
      "eese\n",
      "tce\n",
      "tc\n",
      "c\n",
      "ec\n"
     ]
    }
   ],
   "source": [
    "a = \"computer_science\"\n",
    "\n",
    "print(a[5::3])\n",
    "print(a[5::-3])\n",
    "print(a[:5:3])\n",
    "print(a[:5:-3])\n",
    "\n",
    "print(a[5::5])\n",
    "print(a[5::-5])\n",
    "print(a[:5:5])\n",
    "print(a[:5:-5])"
   ]
  },
  {
   "cell_type": "code",
   "execution_count": null,
   "metadata": {},
   "outputs": [],
   "source": [
    "t_ic\n",
    "tm\n",
    "cp\n",
    "eese\n",
    "tce\n",
    "tc\n",
    "c\n",
    "ec\n"
   ]
  },
  {
   "cell_type": "code",
   "execution_count": 2,
   "metadata": {},
   "outputs": [
    {
     "name": "stdout",
     "output_type": "stream",
     "text": [
      "computer_science\n",
      "ecneics_retupmoc\n",
      "ctce\n",
      "ectc\n",
      "cpesee\n",
      "eesepc\n"
     ]
    }
   ],
   "source": [
    "print(a[::1])\n",
    "print(a[::-1]) #important\n",
    "\n",
    "print(a[::5])\n",
    "print(a[::-5])\n",
    "print(a[::3])\n",
    "print(a[::-3])"
   ]
  },
  {
   "cell_type": "code",
   "execution_count": null,
   "metadata": {},
   "outputs": [],
   "source": [
    "computer_science\n",
    "ecneics_retupmoc\n",
    "\n",
    "ctce\n",
    "ectc\n",
    "cpesee\n",
    "eesepc\n"
   ]
  },
  {
   "cell_type": "code",
   "execution_count": null,
   "metadata": {},
   "outputs": [],
   "source": [
    "a = \"hello_world_python\"\n",
    "\n",
    "print(a[::3])\n",
    "print(a[::-3])\n",
    "print(a[2::3])\n",
    "print(a[3::-3])\n",
    "print(a[:5:-2])\n",
    "print(a[:5:5])\n",
    "print(a[::-1])\n",
    "print(a[::1])\n",
    "print(a[::5])\n",
    "print(a[::-5])"
   ]
  },
  {
   "cell_type": "code",
   "execution_count": null,
   "metadata": {},
   "outputs": [],
   "source": [
    "#reverse a string\n",
    "\n",
    "#Log parsing and extraction"
   ]
  }
 ],
 "metadata": {
  "kernelspec": {
   "display_name": "Python 3",
   "language": "python",
   "name": "python3"
  },
  "language_info": {
   "codemirror_mode": {
    "name": "ipython",
    "version": 3
   },
   "file_extension": ".py",
   "mimetype": "text/x-python",
   "name": "python",
   "nbconvert_exporter": "python",
   "pygments_lexer": "ipython3",
   "version": "3.7.6"
  }
 },
 "nbformat": 4,
 "nbformat_minor": 4
}
