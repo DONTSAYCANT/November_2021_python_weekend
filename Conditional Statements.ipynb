{
 "cells": [
  {
   "cell_type": "code",
   "execution_count": null,
   "metadata": {},
   "outputs": [],
   "source": [
    "#Indentation\n",
    "#Boolean data type\n",
    "#Condition\n",
    "\n",
    "#assignment operator\n",
    "#comparison operator\n",
    "#logical operator\n",
    "\n",
    "\n",
    "#membership operator\n",
    "#ternary operator\n",
    "\n",
    "#key words: if elif else\n",
    "\n"
   ]
  },
  {
   "cell_type": "code",
   "execution_count": null,
   "metadata": {},
   "outputs": [],
   "source": [
    "#True \n",
    "#False\n"
   ]
  },
  {
   "cell_type": "code",
   "execution_count": 1,
   "metadata": {},
   "outputs": [
    {
     "name": "stdout",
     "output_type": "stream",
     "text": [
      "20\n"
     ]
    }
   ],
   "source": [
    "#assignment operator (=)\n",
    "\n",
    "val = 20\n",
    "\n",
    "print(val)"
   ]
  },
  {
   "cell_type": "code",
   "execution_count": 3,
   "metadata": {},
   "outputs": [
    {
     "name": "stdout",
     "output_type": "stream",
     "text": [
      "False\n",
      "True\n"
     ]
    }
   ],
   "source": [
    "#comparison operator\n",
    "\n",
    "#< > <= >= == !=\n",
    "\n",
    "a = 10\n",
    "b = 20\n",
    "\n",
    "print(a > b)\n",
    "\n",
    "print(a != b)"
   ]
  },
  {
   "cell_type": "code",
   "execution_count": 4,
   "metadata": {},
   "outputs": [
    {
     "name": "stdout",
     "output_type": "stream",
     "text": [
      "True\n"
     ]
    }
   ],
   "source": [
    "#logical operator\n",
    "\n",
    "#and\n",
    "#or\n",
    "\n",
    "a = 10\n",
    "b = 11\n",
    "\n",
    "print(a<b  and a!= b)\n",
    "\n",
    "#AND\n",
    "\n",
    "true + true ==> true\n",
    "Otherwise False\n",
    "\n",
    "#OR\n",
    "\n",
    "false + false   ===> false\n",
    "Otherwise True"
   ]
  },
  {
   "cell_type": "code",
   "execution_count": 8,
   "metadata": {},
   "outputs": [
    {
     "name": "stdout",
     "output_type": "stream",
     "text": [
      "True\n",
      "value is equal\n",
      "Inside if condition\n",
      "main pgm\n",
      "outside if condition\n"
     ]
    }
   ],
   "source": [
    "#Indentation\n",
    "\n",
    "a = 10\n",
    "print(a == 10)\n",
    "\n",
    "if a == 10:  #opening brace\n",
    "    print(\"value is equal\")\n",
    "    print(\"Inside if condition\")  #closed brace\n",
    "print(\"main pgm\")\n",
    "print(\"outside if condition\")"
   ]
  },
  {
   "cell_type": "code",
   "execution_count": 7,
   "metadata": {},
   "outputs": [
    {
     "name": "stdout",
     "output_type": "stream",
     "text": [
      "main pgm\n",
      "outside if condition\n"
     ]
    }
   ],
   "source": [
    "a = 10\n",
    "\n",
    "if a != 10:  #opening brace\n",
    "    print(\"value is equal\")\n",
    "    print(\"Inside if condition\")  #closed brace\n",
    "print(\"main pgm\")\n",
    "print(\"outside if condition\")"
   ]
  },
  {
   "cell_type": "code",
   "execution_count": null,
   "metadata": {},
   "outputs": [],
   "source": [
    "#Indentation : scope\n",
    "\n",
    "if a > 10 {\n",
    "    <code 1>\n",
    "    <code 2>\n",
    "    <code 3>\n",
    "}"
   ]
  },
  {
   "cell_type": "code",
   "execution_count": null,
   "metadata": {},
   "outputs": [],
   "source": [
    "https://www.w3schools.com/python/python_conditions.asp"
   ]
  }
 ],
 "metadata": {
  "kernelspec": {
   "display_name": "Python 3",
   "language": "python",
   "name": "python3"
  },
  "language_info": {
   "codemirror_mode": {
    "name": "ipython",
    "version": 3
   },
   "file_extension": ".py",
   "mimetype": "text/x-python",
   "name": "python",
   "nbconvert_exporter": "python",
   "pygments_lexer": "ipython3",
   "version": "3.7.6"
  }
 },
 "nbformat": 4,
 "nbformat_minor": 4
}
