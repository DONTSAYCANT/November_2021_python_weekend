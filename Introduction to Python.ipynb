{
 "cells": [
  {
   "cell_type": "code",
   "execution_count": null,
   "metadata": {},
   "outputs": [],
   "source": [
    "#Course:\n",
    "\n",
    "4.00 pm to 5.30 pm\n",
    "\n",
    "IDLE /pycharm/Jupyter ===> IDE  3.8 python version\n",
    "https://www.python.org/downloads/\n",
    "   \n",
    "\n",
    "Hackerrank.com ===> Online coding platform\n",
    "https://www.hackerrank.com/\n",
    "\n",
    "    \n",
    "Github.com  ===> version controlled storage\n",
    "https://github.com/\n",
    "    \n",
    "\n",
    "\n",
    "Task1: 10-15 tasks\n",
    "    \n",
    "Test: 2-3 test \n",
    "    \n",
    "Project: 3-6 projects/mini projects\n",
    "    \n",
    "Hackerrank: 300 - 400 points\n",
    "    \n",
    "Assignments/seminars/study:"
   ]
  },
  {
   "cell_type": "code",
   "execution_count": null,
   "metadata": {},
   "outputs": [],
   "source": [
    "50 to 60 hrs\n",
    "\n",
    "9 weeks\n",
    "\n",
    "#Basic (1 month)\n",
    "\n",
    "python programming basic\n",
    "Data types\n",
    "String indexing and slicing\n",
    "Data structure\n",
    "List tuple set dictionary methods\n",
    "Conditional stmts if elif else\n",
    "Loops for while for else while else continue pass break\n",
    "Functions inbuilt funtions User functions othe\n",
    "anonymous function / lmabda\n",
    "\n",
    "#Mid level 3 weeks \n",
    "\n",
    "Exception handline\n",
    "Modules/Libraries inbuilt modules/User def\n",
    "Collecions \n",
    "data time \n",
    "os and sys\n",
    "re regular expression\n",
    "File handline\n",
    "\n",
    "\n",
    "#Advanced \n",
    "\n",
    "Oops\n",
    "class and object\n",
    "Inheritance\n",
    "overriding\n",
    "abstract class\n",
    "super class\n",
    "encapsulation\n",
    "Multi threading\n",
    "data base \n",
    "network connectivity django basics"
   ]
  },
  {
   "cell_type": "code",
   "execution_count": null,
   "metadata": {},
   "outputs": [],
   "source": [
    "#Introduction to programming ==> do some task on behalf of me\n",
    "\n",
    "\n",
    "#Programming language c cpp java python \n",
    "\n",
    "#main langauge ==> machine language (0s and 1s)\n",
    "\n",
    "#compiler or interpreter \n",
    "\n",
    "#Why python is famous"
   ]
  },
  {
   "cell_type": "code",
   "execution_count": null,
   "metadata": {},
   "outputs": [],
   "source": [
    "#Introduction to python\n",
    "\n"
   ]
  },
  {
   "cell_type": "code",
   "execution_count": null,
   "metadata": {},
   "outputs": [],
   "source": [
    "#variable\n",
    "data type\n",
    "data structure\n",
    "operator\n",
    "keyword\n",
    "function inbuilt function\n",
    "\n",
    "Task3:\n",
    "\n",
    "Why python is important or famous\n",
    "\n",
    "#cross platform\n",
    "#simplified syntax\n",
    "#programing scripting \n",
    "#learn easily write easily \n",
    "#Developing website html php css ==> Django (python as backend)\n",
    "#AI Datascience ==> libraries available for AI/DL/ML is rich in python / R\n",
    "#Full stack development\n",
    "#devops / Cloudops\n",
    "#Testing \n",
    "#automation \n",
    "\n"
   ]
  },
  {
   "cell_type": "code",
   "execution_count": null,
   "metadata": {},
   "outputs": [],
   "source": [
    "#c language\n",
    "int variable_name = 10;\n",
    "\n",
    "#python\n",
    "variable_name = \"python\"\n",
    "\n",
    "\n",
    "#dynamic typing\n",
    "\n",
    "#perl javascript ==> 50 line\n",
    "#python 35 lines"
   ]
  },
  {
   "cell_type": "code",
   "execution_count": 1,
   "metadata": {},
   "outputs": [],
   "source": [
    "#variable\n",
    "#data type\n",
    "\n",
    "#7,8,9,10 ==> integer\n",
    "#10.99, 6.0, 5,009, -10.20  ==> floating \n",
    "#True False  ==> Boolean data type\n",
    "#string ==> global data type in python \n",
    "#complex ==> \n",
    "\n",
    "\" \"  '  '"
   ]
  },
  {
   "cell_type": "code",
   "execution_count": 3,
   "metadata": {},
   "outputs": [
    {
     "ename": "SyntaxError",
     "evalue": "invalid syntax (<ipython-input-3-47071abc4e0c>, line 3)",
     "output_type": "error",
     "traceback": [
      "\u001b[1;36m  File \u001b[1;32m\"<ipython-input-3-47071abc4e0c>\"\u001b[1;36m, line \u001b[1;32m3\u001b[0m\n\u001b[1;33m    data type\u001b[0m\n\u001b[1;37m            ^\u001b[0m\n\u001b[1;31mSyntaxError\u001b[0m\u001b[1;31m:\u001b[0m invalid syntax\n"
     ]
    }
   ],
   "source": [
    "variable\n",
    "\n",
    "data type ==> types\n",
    "\n",
    "data structure\n",
    "\n",
    "operator\n",
    "\n",
    "keyword\n",
    "\n",
    "function inbuilt function\n",
    "\n",
    "module / library\n",
    "\n",
    "control statments\n",
    "\n",
    "loops\n",
    "\n",
    "exceptions / errors\n",
    "\n",
    "\n"
   ]
  },
  {
   "cell_type": "code",
   "execution_count": 4,
   "metadata": {},
   "outputs": [
    {
     "name": "stdout",
     "output_type": "stream",
     "text": [
      "457.0\n"
     ]
    }
   ],
   "source": [
    "#variable  ==> container for storing data\n",
    "\n",
    "physics = 197\n",
    "chemistry = 194\n",
    "maths = 198\n",
    "\n",
    "\n",
    "total = physics + chemistry + maths / 3\n",
    "\n",
    "print(total)\n",
    "\n",
    "#rules for creating variable in python"
   ]
  },
  {
   "cell_type": "code",
   "execution_count": null,
   "metadata": {},
   "outputs": [],
   "source": [
    "#generic code\n",
    "\n",
    "#data type\n",
    "\n",
    "#7,8,9,10,-12 ==> integer\n",
    "#10.99, 6.0, 5,009, -10.20  ==> floating \n",
    "#True False  ==> Boolean data type\n",
    "#string ==> global data type in python \" \", ' '\n",
    "#complex ==> real and imaginary part\n",
    "\n"
   ]
  },
  {
   "cell_type": "code",
   "execution_count": null,
   "metadata": {},
   "outputs": [],
   "source": [
    "#operator\n",
    "\n",
    "#performing some operation\n",
    "\n",
    "#+ - * % /  Arithmetic operators \n",
    "#comparison\n",
    "#assignment operator\n",
    "#and or not\n",
    "\n"
   ]
  },
  {
   "cell_type": "code",
   "execution_count": null,
   "metadata": {},
   "outputs": [],
   "source": [
    "#Arithmetic operators\n",
    "\n",
    "a = 11\n",
    "b = 7\n",
    "\n",
    "print(a+b) #18 #addition \n",
    "print(a-b) #4 #subs\n",
    "print(a*b) #77 #multiply\n",
    "print(a**b) #power operator\n",
    "print(a/b) #Divison\n",
    "print(a//b) #floor divis\n",
    "print(a%b) #Modulo\n"
   ]
  },
  {
   "cell_type": "code",
   "execution_count": 8,
   "metadata": {},
   "outputs": [
    {
     "name": "stdout",
     "output_type": "stream",
     "text": [
      "16\n",
      "16\n",
      "125\n"
     ]
    }
   ],
   "source": [
    "print(2**4)\n",
    "print(4**2)\n",
    "print(5**3) #125"
   ]
  },
  {
   "cell_type": "code",
   "execution_count": 9,
   "metadata": {},
   "outputs": [
    {
     "name": "stdout",
     "output_type": "stream",
     "text": [
      "4.666666666666667\n"
     ]
    }
   ],
   "source": [
    "print(14 / 3)"
   ]
  },
  {
   "cell_type": "code",
   "execution_count": 10,
   "metadata": {},
   "outputs": [
    {
     "name": "stdout",
     "output_type": "stream",
     "text": [
      "2\n"
     ]
    }
   ],
   "source": [
    "print(14%3) #modulo #remiander after divison"
   ]
  },
  {
   "cell_type": "code",
   "execution_count": 13,
   "metadata": {},
   "outputs": [
    {
     "name": "stdout",
     "output_type": "stream",
     "text": [
      "3\n",
      "2\n",
      "1\n",
      "-4\n",
      "-3\n",
      "-2\n"
     ]
    }
   ],
   "source": [
    "print(10//3) #3\n",
    "print(10//4) #2\n",
    "print(11//10)#1\n",
    "\n",
    "print(-10//3) #-4\n",
    "print(-10//4)\n",
    "print(-11//10)\n",
    "\n",
    "#Do normal divison\n",
    "#Draw a mathematical scale\n",
    "\n",
    "10/3 ==> 3.3333\n",
    "-10/3 = > -3.33333\n",
    "\n",
    "-5 -4 -3 -2 -1 0 1 2 3 4 5\n",
    "\n",
    "#floor divison"
   ]
  },
  {
   "cell_type": "code",
   "execution_count": null,
   "metadata": {},
   "outputs": [],
   "source": [
    "print(-17//4) #-5\n",
    "print(17//4) #4\n",
    "print(18//5) #3\n",
    "print(-18//5) #-4\n",
    "print(20//8) #2\n",
    "print(-20//8) #-3"
   ]
  },
  {
   "cell_type": "code",
   "execution_count": 1,
   "metadata": {},
   "outputs": [
    {
     "name": "stdout",
     "output_type": "stream",
     "text": [
      "-300\n"
     ]
    }
   ],
   "source": [
    "#Variable ==> container for storing value\n",
    "\n",
    "a = 10\n",
    "\n",
    "b = 20\n",
    "\n",
    "c = (a+b) * (a-b)\n",
    "\n",
    "print(c)"
   ]
  },
  {
   "cell_type": "code",
   "execution_count": 4,
   "metadata": {},
   "outputs": [
    {
     "name": "stdout",
     "output_type": "stream",
     "text": [
      "hello worldpython\n",
      "hello worldgroovy\n",
      "hello worldhello\n"
     ]
    }
   ],
   "source": [
    "a = \"hello world\"\n",
    "\n",
    "print(\"hello world\" + \"python\")\n",
    "\n",
    "print(a + \"groovy\")\n",
    "\n",
    "print(a + \"hello\")"
   ]
  },
  {
   "cell_type": "code",
   "execution_count": 9,
   "metadata": {},
   "outputs": [
    {
     "name": "stdout",
     "output_type": "stream",
     "text": [
      "30\n"
     ]
    }
   ],
   "source": [
    "#rules for creating variables\n",
    "\n",
    "variable_1 = 10\n",
    "\n",
    "variable_2 = 20 \n",
    "\n",
    "print(variable_1 + variable_2)"
   ]
  },
  {
   "cell_type": "code",
   "execution_count": 11,
   "metadata": {},
   "outputs": [
    {
     "ename": "SyntaxError",
     "evalue": "invalid syntax (<ipython-input-11-44fe9541d24e>, line 1)",
     "output_type": "error",
     "traceback": [
      "\u001b[1;36m  File \u001b[1;32m\"<ipython-input-11-44fe9541d24e>\"\u001b[1;36m, line \u001b[1;32m1\u001b[0m\n\u001b[1;33m    1variable = 10\u001b[0m\n\u001b[1;37m            ^\u001b[0m\n\u001b[1;31mSyntaxError\u001b[0m\u001b[1;31m:\u001b[0m invalid syntax\n"
     ]
    }
   ],
   "source": [
    "1variable = 10\n",
    "print(variable1)"
   ]
  },
  {
   "cell_type": "code",
   "execution_count": 15,
   "metadata": {},
   "outputs": [
    {
     "name": "stdout",
     "output_type": "stream",
     "text": [
      "15\n",
      "10\n"
     ]
    }
   ],
   "source": [
    "a = 10\n",
    "\n",
    "A = 15\n",
    "print(A)\n",
    "print(a)"
   ]
  },
  {
   "cell_type": "code",
   "execution_count": null,
   "metadata": {},
   "outputs": [],
   "source": [
    "#variable name should be useful (not mandatory)\n",
    "\n",
    "#variable name can be alphabaets, numbers or \"_\"\n",
    "\n",
    "#variable should start with alphabet or _ ... it should not start with numbers\n",
    "\n",
    "#It should not contain any special chars or spaces or tabs\n",
    "\n",
    "#variables are case sensitive\n",
    "\n"
   ]
  },
  {
   "cell_type": "code",
   "execution_count": null,
   "metadata": {},
   "outputs": [],
   "source": [
    "#string ==> upper or lower"
   ]
  },
  {
   "cell_type": "code",
   "execution_count": 18,
   "metadata": {},
   "outputs": [
    {
     "name": "stdout",
     "output_type": "stream",
     "text": [
      "-300\n"
     ]
    }
   ],
   "source": [
    "#comments / single line comment / multi line comment\n",
    "\n",
    "\n",
    "#variable creation a and b\n",
    "a = 10\n",
    "b = 20\n",
    "\n",
    "\n",
    "#This is for calculation of a+b and a-b multiplication\n",
    "c = (a+b) * (a-b)\n",
    "\n",
    "\n",
    "#This line is for log output\n",
    "print(c)\n",
    "\n",
    "#Whatever available startswith # will not get executed"
   ]
  },
  {
   "cell_type": "code",
   "execution_count": 19,
   "metadata": {},
   "outputs": [
    {
     "data": {
      "text/plain": [
       "2432902008180268800"
      ]
     },
     "execution_count": 19,
     "metadata": {},
     "output_type": "execute_result"
    }
   ],
   "source": [
    "import math\n",
    "\n",
    "a = 10\n",
    "b = 20\n",
    "\n",
    "\n",
    "#this function is for this purpose\n",
    "\n",
    "#\n",
    "#\n",
    "#\n",
    "#\n",
    "\n",
    "'''\n",
    "This function is for explaianing \n",
    "multi line comment topic\n",
    "No need to undestand def concept here\n",
    "i will teach you later\n",
    "input:\n",
    "\n",
    "output:\n",
    "\n",
    "\n",
    "'''\n",
    "\"\"\"\n",
    "\n",
    "This function is for explaianing \n",
    "multi line comment topic\n",
    "No need to undestand def concept here\n",
    "i will teach you later\n",
    "input:\n",
    "\n",
    "output:\n",
    "\"\"\"\n",
    "def factorial_calc(n,m):\n",
    "    #line 1\n",
    "    #line 2\n",
    "    #line 3\n",
    "\n",
    "    #line 1000\n",
    "    return math.factorial(n) + math.factorial(m)\n",
    "\n",
    "factorial_calc(a,b)\n",
    "\n",
    "\n",
    "\n",
    "#multiple line comment is also called as doc string"
   ]
  },
  {
   "cell_type": "code",
   "execution_count": 25,
   "metadata": {},
   "outputs": [
    {
     "name": "stdout",
     "output_type": "stream",
     "text": [
      "10\n",
      "<class 'int'>\n",
      "20.0009\n",
      "<class 'float'>\n",
      "True\n",
      "<class 'bool'>\n",
      "python\n",
      "<class 'str'>\n",
      "h\n",
      "<class 'str'>\n",
      "False\n",
      "<class 'bool'>\n",
      "10.9999\n",
      "<class 'str'>\n",
      "hello world\n",
      "<class 'str'>\n"
     ]
    }
   ],
   "source": [
    "#data types ==> type of data\n",
    "\n",
    "#int\n",
    "#float\n",
    "#str\n",
    "#boolean\n",
    "#complex ==> maths operator real number and img\n",
    "\n",
    "a = 10 #int\n",
    "\n",
    "b = 20.0009\n",
    "\n",
    "c = True\n",
    "\n",
    "d = \"python\"\n",
    "\n",
    "e = \"h\"\n",
    "\n",
    "f = False\n",
    "\n",
    "h = \"10.9999\"\n",
    "\n",
    "\n",
    "print(a)\n",
    "print(type(a))\n",
    "print(b)\n",
    "print(type(b))\n",
    "\n",
    "print(c)\n",
    "print(type(c))\n",
    "\n",
    "print(d)\n",
    "print(type(d))\n",
    "\n",
    "print(e)\n",
    "print(type(e))\n",
    "\n",
    "print(f)\n",
    "print(type(f))\n",
    "\n",
    "print(h)\n",
    "print(type(h))\n",
    "\n",
    "print(\"hello world\")\n",
    "\n",
    "print(type(\"hello world\"))\n",
    "#Global data type"
   ]
  },
  {
   "cell_type": "code",
   "execution_count": 26,
   "metadata": {},
   "outputs": [
    {
     "name": "stdout",
     "output_type": "stream",
     "text": [
      "314.0\n"
     ]
    }
   ],
   "source": [
    "#Task1:\n",
    "\n",
    "\n",
    "\n",
    "radius = 10\n",
    "pi = 3.14\n",
    "\n",
    "\n",
    "Area = pi * radius * radius\n",
    "\n",
    "print(Area)\n"
   ]
  },
  {
   "cell_type": "code",
   "execution_count": null,
   "metadata": {},
   "outputs": [],
   "source": [
    "#variable creation a and b\n",
    "a = 10\n",
    "b = 20\n",
    "\n",
    "\n",
    "#This is for calculation of a+b and a-b multiplication\n",
    "c = (a+b) * (a-b)\n",
    "\n",
    "print(c)"
   ]
  },
  {
   "cell_type": "code",
   "execution_count": null,
   "metadata": {},
   "outputs": [],
   "source": [
    "#inbuilt functions / print / type / len / input\n",
    "\n",
    "#function ==> repetitive code in your pr0gram\n",
    "#types\n",
    "\n",
    "#inbuilt function\n",
    "#user defined function  ==> own purpose\n",
    "\n",
    "#1000 lines\n",
    "\n",
    "#50 lines are coming for 8 time  ===> 400 lines\n",
    "\n",
    "\n",
    "#function (50 lines)\n",
    "#call ==>\n",
    "\n",
    "print ===> printing output\n",
    "\n",
    "type ===> for identifying data type or data strucutre of the arg\n",
    "\n",
    "\n",
    "function call \n",
    "\n",
    "function def\n",
    "\n"
   ]
  },
  {
   "cell_type": "code",
   "execution_count": 30,
   "metadata": {},
   "outputs": [
    {
     "name": "stdout",
     "output_type": "stream",
     "text": [
      "10240000000010\n",
      "<class 'str'>\n",
      "3\n"
     ]
    }
   ],
   "source": [
    "\n",
    "#inbuitl function /user function /function call / function def\n",
    "\n",
    "\n",
    "def function1(x,y):  #function definition\n",
    "    value = x + y ** 10\n",
    "    return value #final output of a function\n",
    "\n",
    "print(function1(10,20))  #===> function call\n",
    "\n",
    "\n",
    "print(type(\"hello\")) #inbuilt funtion\n",
    "print(len(\"hai\"))"
   ]
  },
  {
   "cell_type": "code",
   "execution_count": 32,
   "metadata": {},
   "outputs": [
    {
     "name": "stdout",
     "output_type": "stream",
     "text": [
      "start of function\n",
      "hello\n",
      "end of function\n",
      "True\n"
     ]
    }
   ],
   "source": [
    "def prine_function():\n",
    "    print(\"start of function\")\n",
    "    print(\"hello\")\n",
    "    print(\"end of function\")\n",
    "    return True\n",
    "    \n",
    "    \n",
    "print(prine_function())"
   ]
  },
  {
   "cell_type": "code",
   "execution_count": 29,
   "metadata": {},
   "outputs": [
    {
     "name": "stdout",
     "output_type": "stream",
     "text": [
      "hello\n",
      "<class 'bool'>\n",
      "30\n"
     ]
    }
   ],
   "source": [
    "print(\"hello\")\n",
    "\n",
    "print(type(True))\n",
    "\n",
    "print(len(\"hello chennai banglore welcome\"))"
   ]
  },
  {
   "cell_type": "code",
   "execution_count": null,
   "metadata": {},
   "outputs": [],
   "source": [
    "#operators\n",
    "\n",
    "#Arithmetic operators  + * - / // ** %\n",
    "\n",
    "#comparison operato\n",
    "\n",
    "<\n",
    "<=\n",
    ">\n",
    ">=\n",
    "==\n",
    "\n",
    "control stmts\n",
    "\n",
    "#logical operators & and or | not \n",
    "\n",
    "#assignment operator\n",
    "\n",
    "ternary operator\n",
    "\n",
    "\n",
    "\n",
    "\n"
   ]
  },
  {
   "cell_type": "code",
   "execution_count": 37,
   "metadata": {},
   "outputs": [
    {
     "name": "stdout",
     "output_type": "stream",
     "text": [
      "20\n"
     ]
    }
   ],
   "source": [
    "b =3\n",
    "\n",
    "\n",
    "a = 50 if b>5 else 20 #ternary operaotr\n",
    "\n",
    "print(a)"
   ]
  },
  {
   "cell_type": "code",
   "execution_count": 34,
   "metadata": {},
   "outputs": [
    {
     "name": "stdout",
     "output_type": "stream",
     "text": [
      "10\n"
     ]
    }
   ],
   "source": [
    "a = 10\n",
    "print(a)"
   ]
  },
  {
   "cell_type": "code",
   "execution_count": 33,
   "metadata": {},
   "outputs": [
    {
     "name": "stdout",
     "output_type": "stream",
     "text": [
      "2\n",
      "-3\n"
     ]
    }
   ],
   "source": [
    "print(10 // 4)\n",
    "\n",
    "print(-10 // 4)\n",
    "\n",
    "\n",
    "#normal divison 10/4 == 2.5\n",
    "\n",
    "-4 -3 -2 -1 0 1 2 3 4"
   ]
  },
  {
   "cell_type": "code",
   "execution_count": 39,
   "metadata": {},
   "outputs": [
    {
     "name": "stdout",
     "output_type": "stream",
     "text": [
      "10\n",
      "True\n"
     ]
    }
   ],
   "source": [
    "#int float bool str\n",
    "\n",
    "a = 10.00001\n",
    "print(int(a))\n",
    "\n",
    "print(bool(a))"
   ]
  },
  {
   "cell_type": "code",
   "execution_count": 2,
   "metadata": {},
   "outputs": [
    {
     "name": "stdout",
     "output_type": "stream",
     "text": [
      "10\n",
      "10.0\n",
      "10\n",
      "True\n"
     ]
    }
   ],
   "source": [
    "a = 10\n",
    "\n",
    "\n",
    "print(int(a))\n",
    "\n",
    "print(float(a))\n",
    "\n",
    "print(str(a))\n",
    "\n",
    "print(bool(a))"
   ]
  },
  {
   "cell_type": "code",
   "execution_count": 3,
   "metadata": {},
   "outputs": [
    {
     "name": "stdout",
     "output_type": "stream",
     "text": [
      "10\n",
      "10.0\n",
      "10.0\n",
      "True\n"
     ]
    }
   ],
   "source": [
    "a = 10.00\n",
    "\n",
    "\n",
    "print(int(a))\n",
    "\n",
    "print(float(a))\n",
    "\n",
    "print(str(a))\n",
    "\n",
    "print(bool(a))"
   ]
  },
  {
   "cell_type": "code",
   "execution_count": 4,
   "metadata": {},
   "outputs": [
    {
     "name": "stdout",
     "output_type": "stream",
     "text": [
      "1\n",
      "1.0\n",
      "True\n",
      "True\n"
     ]
    }
   ],
   "source": [
    "a = True\n",
    "\n",
    "\n",
    "print(int(a))\n",
    "\n",
    "print(float(a))\n",
    "\n",
    "print(str(a))\n",
    "\n",
    "print(bool(a))"
   ]
  },
  {
   "cell_type": "code",
   "execution_count": 7,
   "metadata": {},
   "outputs": [
    {
     "name": "stdout",
     "output_type": "stream",
     "text": [
      "python\n",
      "True\n"
     ]
    }
   ],
   "source": [
    "a = \"python\"\n",
    "\n",
    "\n",
    "#print(int(a))\n",
    "\n",
    "#print(float(a))\n",
    "\n",
    "print(str(a))\n",
    "\n",
    "print(bool(a))\n",
    "\n",
    "#string global data type"
   ]
  },
  {
   "cell_type": "code",
   "execution_count": 8,
   "metadata": {},
   "outputs": [
    {
     "name": "stdout",
     "output_type": "stream",
     "text": [
      "30\n"
     ]
    }
   ],
   "source": [
    "#input function\n",
    "\n",
    "a = 10\n",
    "\n",
    "b = 20\n",
    "\n",
    "print(a + b)\n",
    "\n"
   ]
  },
  {
   "cell_type": "code",
   "execution_count": 11,
   "metadata": {},
   "outputs": [
    {
     "name": "stdout",
     "output_type": "stream",
     "text": [
      "please enter first number20\n",
      "20\n",
      "<class 'str'>\n",
      "please enter second number30\n",
      "30\n",
      "<class 'str'>\n",
      "2030\n"
     ]
    }
   ],
   "source": [
    "a = input(\"please enter first number\")\n",
    "#Default input from input function is string\n",
    "print(a)\n",
    "print(type(a))\n",
    "\n",
    "b = input(\"please enter second number\")\n",
    "print(b)\n",
    "print(type(b))\n",
    "\n",
    "\n",
    "print(a + b)\n",
    "\n"
   ]
  },
  {
   "cell_type": "code",
   "execution_count": 12,
   "metadata": {},
   "outputs": [
    {
     "name": "stdout",
     "output_type": "stream",
     "text": [
      "helloworld\n",
      "15\n"
     ]
    }
   ],
   "source": [
    "a = \"hello\"\n",
    "b = \"world\"\n",
    "print(a+b)\n",
    "\n",
    "a = 10\n",
    "b = 5\n",
    "print(a+b)"
   ]
  },
  {
   "cell_type": "code",
   "execution_count": 10,
   "metadata": {},
   "outputs": [
    {
     "name": "stdout",
     "output_type": "stream",
     "text": [
      "10\n",
      "20\n",
      "10\n",
      "20\n"
     ]
    }
   ],
   "source": [
    "a = input()\n",
    "\n",
    "b = input()\n",
    "\n",
    "print(a)\n",
    "print(b)"
   ]
  },
  {
   "cell_type": "code",
   "execution_count": 13,
   "metadata": {},
   "outputs": [
    {
     "name": "stdout",
     "output_type": "stream",
     "text": [
      "please enter first number: 20\n",
      "second number200\n",
      "220\n"
     ]
    }
   ],
   "source": [
    "a = int(input(\"please enter first number: \"))\n",
    "b = int(input(\"second number\"))\n",
    "\n",
    "c = a + b\n",
    "print(c)"
   ]
  },
  {
   "cell_type": "code",
   "execution_count": null,
   "metadata": {},
   "outputs": [],
   "source": [
    "c = float(input(\"please enter one float value\"))\n",
    "d = bool(input(\"please enter one boolean input from user\"))\n",
    "\n",
    "e = str(input(\"please enter a string\")) \n",
    "e = input(\"please enter a value\")"
   ]
  },
  {
   "cell_type": "code",
   "execution_count": 19,
   "metadata": {},
   "outputs": [
    {
     "name": "stdout",
     "output_type": "stream",
     "text": [
      "314.0\n",
      "The Area of circle is  314.0\n",
      "The Area of circle with radius 10 and pi 3.14 is 314.0\n",
      "The Area of circle with radius 10 and pi 3.14 is 314.0\n",
      "314.0 is the area of circle with radius 10 and pi 3.14\n"
     ]
    }
   ],
   "source": [
    "#format method\n",
    "\n",
    "\n",
    "radius = 10\n",
    "pi = 3.14\n",
    "\n",
    "Area = pi * (radius ** 2)\n",
    "\n",
    "print(Area)\n",
    "\n",
    "print(\"The Area of circle is \", Area)\n",
    "\n",
    "print(\"The Area of circle with radius {} and pi {} is {}\".format(radius,pi,Area))\n",
    "\n",
    "print(\"The Area of circle with radius {0} and pi {1} is {2}\".format(radius,pi,Area))\n",
    "\n",
    "print(\"{2} is the area of circle with radius {0} and pi {1}\".format(radius,pi,Area))\n",
    "\n",
    "#(0, 1, 2, 3 ,4)\n"
   ]
  },
  {
   "cell_type": "code",
   "execution_count": 24,
   "metadata": {},
   "outputs": [
    {
     "name": "stdout",
     "output_type": "stream",
     "text": [
      "please enter radius in float foramt 10.5\n",
      "please enter height in float foramt 12.5\n",
      "1442.4375\n",
      "The Area of cone with radius 10.5 and height 12.5 is 1442.4375\n",
      "The Area of cone with radius 10.5 and height 12.5 is 1442\n"
     ]
    }
   ],
   "source": [
    "#Collect radius from user (float)\n",
    "\n",
    "radius = float(input(\"please enter radius in float foramt \"))\n",
    "#collect height from user (float)\n",
    "\n",
    "height = float(input(\"please enter height in float foramt \"))\n",
    "\n",
    "pi = 3.14\n",
    "\n",
    "Area_of_cone = (1/3) * pi *  radius * radius * height \n",
    "\n",
    "print(Area_of_cone)\n",
    "\n",
    "#print output in formatted way\n",
    "\n",
    "print(\"The Area of cone with radius {} and height {} is {}\".format(radius, height, Area_of_cone))\n",
    "\n",
    "#Area output should be in integer data type\n",
    "\n",
    "print(\"The Area of cone with radius {} and height {} is {}\".format(radius, height, int(Area_of_cone)))\n",
    "\n"
   ]
  },
  {
   "cell_type": "code",
   "execution_count": null,
   "metadata": {},
   "outputs": [],
   "source": [
    "#print function end and sep"
   ]
  }
 ],
 "metadata": {
  "kernelspec": {
   "display_name": "Python 3",
   "language": "python",
   "name": "python3"
  },
  "language_info": {
   "codemirror_mode": {
    "name": "ipython",
    "version": 3
   },
   "file_extension": ".py",
   "mimetype": "text/x-python",
   "name": "python",
   "nbconvert_exporter": "python",
   "pygments_lexer": "ipython3",
   "version": "3.7.6"
  }
 },
 "nbformat": 4,
 "nbformat_minor": 4
}
