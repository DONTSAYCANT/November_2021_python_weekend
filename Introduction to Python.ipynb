{
 "cells": [
  {
   "cell_type": "code",
   "execution_count": null,
   "metadata": {},
   "outputs": [],
   "source": [
    "#Course:\n",
    "\n",
    "4.00 pm to 5.30 pm\n",
    "\n",
    "IDLE /pycharm/Jupyter ===> IDE  3.8 python version\n",
    "https://www.python.org/downloads/\n",
    "   \n",
    "\n",
    "Hackerrank.com ===> Online coding platform\n",
    "https://www.hackerrank.com/\n",
    "\n",
    "    \n",
    "Github.com  ===> version controlled storage\n",
    "    \n",
    "\n",
    "\n",
    "Task1: 10-15 tasks\n",
    "    \n",
    "Test: 2-3 test \n",
    "    \n",
    "Project: 3-6 projects/mini projects\n",
    "    \n",
    "Hackerrank: 300 - 400 points\n",
    "    \n",
    "Assignments/seminars/study:"
   ]
  },
  {
   "cell_type": "code",
   "execution_count": null,
   "metadata": {},
   "outputs": [],
   "source": [
    "#Introduction to programming ==> do some task on behalf of me\n",
    "\n",
    "\n",
    "#Programming language c cpp java python \n",
    "\n",
    "#main langauge ==> machine language (0s and 1s)\n",
    "\n",
    "#compiler or interpreter \n",
    "\n",
    "#Why python is famous"
   ]
  },
  {
   "cell_type": "code",
   "execution_count": null,
   "metadata": {},
   "outputs": [],
   "source": [
    "#Introduction to python\n",
    "\n"
   ]
  },
  {
   "cell_type": "code",
   "execution_count": null,
   "metadata": {},
   "outputs": [],
   "source": [
    "#variable\n",
    "data type\n",
    "data structure\n",
    "operator\n",
    "keyword\n",
    "function inbuilt function\n",
    "\n",
    "Task3:\n",
    "\n",
    "Why python is important or famous\n",
    "\n",
    "#cross platform\n",
    "#simplified syntax\n",
    "#programing scripting \n",
    "#learn easily write easily \n",
    "#Developing website html php css ==> Django (python as backend)\n",
    "#AI Datascience ==> libraries available for AI/DL/ML is rich in python / R\n",
    "#Full stack development\n",
    "#devops / Cloudops\n",
    "#Testing \n",
    "#automation \n",
    "\n"
   ]
  },
  {
   "cell_type": "code",
   "execution_count": null,
   "metadata": {},
   "outputs": [],
   "source": [
    "#c language\n",
    "int variable_name = 10;\n",
    "\n",
    "#python\n",
    "variable_name = \"python\"\n",
    "\n",
    "\n",
    "#dynamic typing\n",
    "\n",
    "#perl javascript ==> 50 line\n",
    "#python 35 lines"
   ]
  },
  {
   "cell_type": "code",
   "execution_count": 1,
   "metadata": {},
   "outputs": [],
   "source": [
    "#variable\n",
    "#data type\n",
    "\n",
    "#7,8,9,10 ==> integer\n",
    "#10.99, 6.0, 5,009, -10.20  ==> floating \n",
    "#True False  ==> Boolean data type\n",
    "#string ==> global data type in python \n",
    "#complex ==> \n",
    "\n",
    "\" \"  '  '"
   ]
  },
  {
   "cell_type": "code",
   "execution_count": 3,
   "metadata": {},
   "outputs": [
    {
     "ename": "SyntaxError",
     "evalue": "invalid syntax (<ipython-input-3-47071abc4e0c>, line 3)",
     "output_type": "error",
     "traceback": [
      "\u001b[1;36m  File \u001b[1;32m\"<ipython-input-3-47071abc4e0c>\"\u001b[1;36m, line \u001b[1;32m3\u001b[0m\n\u001b[1;33m    data type\u001b[0m\n\u001b[1;37m            ^\u001b[0m\n\u001b[1;31mSyntaxError\u001b[0m\u001b[1;31m:\u001b[0m invalid syntax\n"
     ]
    }
   ],
   "source": [
    "variable\n",
    "\n",
    "data type ==> types\n",
    "\n",
    "data structure\n",
    "\n",
    "operator\n",
    "\n",
    "keyword\n",
    "\n",
    "function inbuilt function\n",
    "\n",
    "module / library\n",
    "\n",
    "control statments\n",
    "\n",
    "loops\n",
    "\n",
    "exceptions / errors\n",
    "\n",
    "\n"
   ]
  },
  {
   "cell_type": "code",
   "execution_count": 4,
   "metadata": {},
   "outputs": [
    {
     "name": "stdout",
     "output_type": "stream",
     "text": [
      "457.0\n"
     ]
    }
   ],
   "source": [
    "#variable  ==> container for storing data\n",
    "\n",
    "physics = 197\n",
    "chemistry = 194\n",
    "maths = 198\n",
    "\n",
    "\n",
    "total = physics + chemistry + maths / 3\n",
    "\n",
    "print(total)\n",
    "\n",
    "#rules for creating variable in python"
   ]
  },
  {
   "cell_type": "code",
   "execution_count": null,
   "metadata": {},
   "outputs": [],
   "source": [
    "#generic code\n",
    "\n",
    "#data type\n",
    "\n",
    "#7,8,9,10,-12 ==> integer\n",
    "#10.99, 6.0, 5,009, -10.20  ==> floating \n",
    "#True False  ==> Boolean data type\n",
    "#string ==> global data type in python \" \", ' '\n",
    "#complex ==> real and imaginary part\n",
    "\n"
   ]
  },
  {
   "cell_type": "code",
   "execution_count": null,
   "metadata": {},
   "outputs": [],
   "source": [
    "#operator\n",
    "\n",
    "#performing some operation\n",
    "\n",
    "#+ - * % /  Arithmetic operators \n",
    "#comparison\n",
    "#assignment operator\n",
    "#and or not\n",
    "\n"
   ]
  },
  {
   "cell_type": "code",
   "execution_count": null,
   "metadata": {},
   "outputs": [],
   "source": [
    "#Arithmetic operators\n",
    "\n",
    "a = 11\n",
    "b = 7\n",
    "\n",
    "print(a+b) #18 #addition \n",
    "print(a-b) #4 #subs\n",
    "print(a*b) #77 #multiply\n",
    "print(a**b) #power operator\n",
    "print(a/b) #Divison\n",
    "print(a//b) #floor divis\n",
    "print(a%b) #Modulo\n"
   ]
  },
  {
   "cell_type": "code",
   "execution_count": 8,
   "metadata": {},
   "outputs": [
    {
     "name": "stdout",
     "output_type": "stream",
     "text": [
      "16\n",
      "16\n",
      "125\n"
     ]
    }
   ],
   "source": [
    "print(2**4)\n",
    "print(4**2)\n",
    "print(5**3) #125"
   ]
  },
  {
   "cell_type": "code",
   "execution_count": 9,
   "metadata": {},
   "outputs": [
    {
     "name": "stdout",
     "output_type": "stream",
     "text": [
      "4.666666666666667\n"
     ]
    }
   ],
   "source": [
    "print(14 / 3)"
   ]
  },
  {
   "cell_type": "code",
   "execution_count": 10,
   "metadata": {},
   "outputs": [
    {
     "name": "stdout",
     "output_type": "stream",
     "text": [
      "2\n"
     ]
    }
   ],
   "source": [
    "print(14%3)"
   ]
  },
  {
   "cell_type": "code",
   "execution_count": 13,
   "metadata": {},
   "outputs": [
    {
     "name": "stdout",
     "output_type": "stream",
     "text": [
      "3\n",
      "2\n",
      "1\n",
      "-4\n",
      "-3\n",
      "-2\n"
     ]
    }
   ],
   "source": [
    "print(10//3) #3\n",
    "print(10//4) #2\n",
    "print(11//10)#1\n",
    "\n",
    "print(-10//3) #-4\n",
    "print(-10//4)\n",
    "print(-11//10)\n",
    "\n",
    "#Do normal divison\n",
    "#Draw a mathematical scale\n",
    "\n",
    "10/3 ==> 3.3333\n",
    "-10/3 = > -3.33333\n",
    "\n",
    "-5 -4 -3 -2 -1 0 1 2 3 4 5\n",
    "\n",
    "#floor divison"
   ]
  },
  {
   "cell_type": "code",
   "execution_count": null,
   "metadata": {},
   "outputs": [],
   "source": [
    "print(-17//4) #-5\n",
    "print(17//4) #4\n",
    "print(18//5) #3\n",
    "print(-18//5) #-4\n",
    "print(20//8) #2\n",
    "print(-20//8) #-3"
   ]
  }
 ],
 "metadata": {
  "kernelspec": {
   "display_name": "Python 3",
   "language": "python",
   "name": "python3"
  },
  "language_info": {
   "codemirror_mode": {
    "name": "ipython",
    "version": 3
   },
   "file_extension": ".py",
   "mimetype": "text/x-python",
   "name": "python",
   "nbconvert_exporter": "python",
   "pygments_lexer": "ipython3",
   "version": "3.7.6"
  }
 },
 "nbformat": 4,
 "nbformat_minor": 4
}
