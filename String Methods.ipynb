{
 "cells": [
  {
   "cell_type": "code",
   "execution_count": 1,
   "metadata": {},
   "outputs": [],
   "source": [
    "#https://www.w3schools.com/python/python_ref_string.asp"
   ]
  },
  {
   "cell_type": "code",
   "execution_count": null,
   "metadata": {},
   "outputs": [],
   "source": [
    "#string"
   ]
  },
  {
   "cell_type": "code",
   "execution_count": null,
   "metadata": {},
   "outputs": [],
   "source": [
    "#method ==> specific\n",
    "#function"
   ]
  },
  {
   "cell_type": "code",
   "execution_count": 2,
   "metadata": {},
   "outputs": [
    {
     "name": "stdout",
     "output_type": "stream",
     "text": [
      "python_hello\n",
      "<class 'str'>\n"
     ]
    }
   ],
   "source": [
    "a = \"python_hello\"\n",
    "\n",
    "print(a)\n",
    "print(type(a))"
   ]
  },
  {
   "cell_type": "code",
   "execution_count": 4,
   "metadata": {},
   "outputs": [
    {
     "name": "stdout",
     "output_type": "stream",
     "text": [
      "hello\n",
      "HELLOWOGGEFV\n",
      "hellowoggefv\n"
     ]
    }
   ],
   "source": [
    "#upper/lower\n",
    "\n",
    "\n",
    "a = \"HELLO\"\n",
    "print(a.lower())\n",
    "\n",
    "\n",
    "a = \"HellOWoggEFV\"\n",
    "print(a.upper())\n",
    "print(a.lower())"
   ]
  },
  {
   "cell_type": "code",
   "execution_count": 7,
   "metadata": {},
   "outputs": [
    {
     "name": "stdout",
     "output_type": "stream",
     "text": [
      "hello world\n",
      "hello world\n"
     ]
    }
   ],
   "source": [
    "#Concatenation\n",
    "\n",
    "a = \"hello\"\n",
    "b = \"world\"\n",
    "\n",
    "c = a + \" \" + b\n",
    "\n",
    "print(c)\n",
    "\n",
    "print(a + \" \" + b)"
   ]
  },
  {
   "cell_type": "code",
   "execution_count": 9,
   "metadata": {},
   "outputs": [
    {
     "name": "stdout",
     "output_type": "stream",
     "text": [
      "Welcome To Python World\n",
      "ggggDDDHFgddss\n"
     ]
    }
   ],
   "source": [
    "#title/swapcase\n",
    "\n",
    "a = \"welcome to python world\"\n",
    "\n",
    "print(a.title())\n",
    "\n",
    "a = \"GGGGdddhfGDDSS\"\n",
    "\n",
    "print(a.swapcase())"
   ]
  },
  {
   "cell_type": "code",
   "execution_count": 10,
   "metadata": {},
   "outputs": [
    {
     "name": "stdout",
     "output_type": "stream",
     "text": [
      "Good evening\n"
     ]
    }
   ],
   "source": [
    "#capitalize\n",
    "\n",
    "a = \"good evening\"\n",
    "\n",
    "print(a.capitalize())"
   ]
  },
  {
   "cell_type": "code",
   "execution_count": 11,
   "metadata": {},
   "outputs": [
    {
     "name": "stdout",
     "output_type": "stream",
     "text": [
      "False\n",
      "True\n",
      "True\n",
      "False\n",
      "False\n",
      "True\n"
     ]
    }
   ],
   "source": [
    "#startswith\n",
    "#endswith\n",
    "\n",
    "a = \"hello_world\"\n",
    "\n",
    "print(a.startswith(\"wor\"))\n",
    "print(a.startswith(\"hel\"))\n",
    "\n",
    "print(a.startswith(\"h\"))\n",
    "print(a.startswith(\"o\"))\n",
    "\n",
    "print(a.startswith(\"heelo\"))\n",
    "print(a.startswith(\"hello\"))"
   ]
  },
  {
   "cell_type": "code",
   "execution_count": 12,
   "metadata": {},
   "outputs": [
    {
     "name": "stdout",
     "output_type": "stream",
     "text": [
      "True\n",
      "True\n",
      "True\n",
      "False\n"
     ]
    }
   ],
   "source": [
    "a = \"hello_world\"\n",
    "\n",
    "print(a.endswith(\"rld\"))\n",
    "print(a.endswith(\"d\"))\n",
    "print(a.endswith(\"world\"))\n",
    "print(a.endswith(\"ddd\"))\n",
    "\n"
   ]
  },
  {
   "cell_type": "code",
   "execution_count": 13,
   "metadata": {},
   "outputs": [
    {
     "name": "stdout",
     "output_type": "stream",
     "text": [
      "The concatenation of hello and world is helloworld\n"
     ]
    }
   ],
   "source": [
    "#format\n",
    "\n",
    "a = \"hello\"\n",
    "b = \"world\"\n",
    "\n",
    "print(\"The concatenation of {} and {} is {}\".format(a,b,a+b))"
   ]
  },
  {
   "cell_type": "code",
   "execution_count": 16,
   "metadata": {},
   "outputs": [
    {
     "name": "stdout",
     "output_type": "stream",
     "text": [
      "2\n",
      "4\n",
      "0\n"
     ]
    },
    {
     "ename": "ValueError",
     "evalue": "substring not found",
     "output_type": "error",
     "traceback": [
      "\u001b[1;31m---------------------------------------------------------------------------\u001b[0m",
      "\u001b[1;31mValueError\u001b[0m                                Traceback (most recent call last)",
      "\u001b[1;32m<ipython-input-16-78e2880a565b>\u001b[0m in \u001b[0;36m<module>\u001b[1;34m\u001b[0m\n\u001b[0;32m      6\u001b[0m \u001b[0mprint\u001b[0m\u001b[1;33m(\u001b[0m\u001b[0ma\u001b[0m\u001b[1;33m.\u001b[0m\u001b[0mindex\u001b[0m\u001b[1;33m(\u001b[0m\u001b[1;34m\"on\"\u001b[0m\u001b[1;33m)\u001b[0m\u001b[1;33m)\u001b[0m\u001b[1;33m\u001b[0m\u001b[1;33m\u001b[0m\u001b[0m\n\u001b[0;32m      7\u001b[0m \u001b[0mprint\u001b[0m\u001b[1;33m(\u001b[0m\u001b[0ma\u001b[0m\u001b[1;33m.\u001b[0m\u001b[0mindex\u001b[0m\u001b[1;33m(\u001b[0m\u001b[1;34m\"pyt\"\u001b[0m\u001b[1;33m)\u001b[0m\u001b[1;33m)\u001b[0m\u001b[1;33m\u001b[0m\u001b[1;33m\u001b[0m\u001b[0m\n\u001b[1;32m----> 8\u001b[1;33m \u001b[0mprint\u001b[0m\u001b[1;33m(\u001b[0m\u001b[0ma\u001b[0m\u001b[1;33m.\u001b[0m\u001b[0mindex\u001b[0m\u001b[1;33m(\u001b[0m\u001b[1;34m\"z\"\u001b[0m\u001b[1;33m)\u001b[0m\u001b[1;33m)\u001b[0m\u001b[1;33m\u001b[0m\u001b[1;33m\u001b[0m\u001b[0m\n\u001b[0m",
      "\u001b[1;31mValueError\u001b[0m: substring not found"
     ]
    }
   ],
   "source": [
    "#index\n",
    "\n",
    "a = \"python\"\n",
    "\n",
    "print(a.index(\"t\"))\n",
    "print(a.index(\"on\"))\n",
    "print(a.index(\"pyt\"))\n",
    "print(a.index(\"z\"))"
   ]
  },
  {
   "cell_type": "code",
   "execution_count": 15,
   "metadata": {},
   "outputs": [
    {
     "name": "stdout",
     "output_type": "stream",
     "text": [
      "2\n",
      "-1\n"
     ]
    }
   ],
   "source": [
    "#find\n",
    "\n",
    "a = \"python\"\n",
    "\n",
    "print(a.find(\"t\"))\n",
    "print(a.find(\"z\"))"
   ]
  },
  {
   "cell_type": "code",
   "execution_count": 17,
   "metadata": {},
   "outputs": [
    {
     "name": "stdout",
     "output_type": "stream",
     "text": [
      "hello_cy**on\n"
     ]
    }
   ],
   "source": [
    "#replace\n",
    "\n",
    "a = \"hello_python\"\n",
    "\n",
    "print(a.replace(\"pyth\",\"cy**\"))"
   ]
  },
  {
   "cell_type": "code",
   "execution_count": 22,
   "metadata": {},
   "outputs": [
    {
     "name": "stdout",
     "output_type": "stream",
     "text": [
      "['hello', 'world', 'welcome']\n",
      "['hello', 'world', 'welcome']\n"
     ]
    }
   ],
   "source": [
    "#split\n",
    "\n",
    "#input: string\n",
    "#ouput: list\n",
    "\n",
    "#Single main string to collection of substrings\n",
    "\n",
    "a = \"hello world welcome\"\n",
    "\n",
    "b = a.split() #space default parameeter\n",
    "\n",
    "print(b)\n",
    "print(type(b))\n",
    "\n",
    "\n",
    "a = \"hello_world_welcome\"\n",
    "\n",
    "b = a.split(\"_\") #space default parameeter\n",
    "\n",
    "print(b)\n",
    "print(type(b))\n"
   ]
  },
  {
   "cell_type": "code",
   "execution_count": 24,
   "metadata": {},
   "outputs": [
    {
     "name": "stdout",
     "output_type": "stream",
     "text": [
      "hello_world\n",
      "hello_world    \n",
      "                hello_world\n",
      "hello_world___\n",
      "*****hello_world___\n",
      "*****hello_world\n"
     ]
    }
   ],
   "source": [
    "#strip/lstrip/rstrip\n",
    "\n",
    "a = \"                hello_world    \"\n",
    "\n",
    "print(a.strip()) #space is default\n",
    "\n",
    "print(a.lstrip())\n",
    "print(a.rstrip())\n",
    "\n",
    "a = \"*****hello_world___\"\n",
    "\n",
    "print(a.strip(\"*\")) #space is default\n",
    "\n",
    "print(a.lstrip())\n",
    "print(a.rstrip(\"_\"))\n",
    "\n",
    "#\"*&^\"#re#find "
   ]
  },
  {
   "cell_type": "code",
   "execution_count": 29,
   "metadata": {},
   "outputs": [
    {
     "name": "stdout",
     "output_type": "stream",
     "text": [
      "welcome* to*python*world\n"
     ]
    }
   ],
   "source": [
    "#join\n",
    "\n",
    "#input: list\n",
    "#output: string\n",
    "\n",
    "#collection substrings ==> string\n",
    "\n",
    "a = [\"welcome\", \" to\", \"python\", \"world\"]\n",
    "\n",
    "b = \"*\".join(a)\n",
    "print(b)\n"
   ]
  },
  {
   "cell_type": "code",
   "execution_count": 25,
   "metadata": {},
   "outputs": [
    {
     "name": "stdout",
     "output_type": "stream",
     "text": [
      "True\n",
      "True\n",
      "False\n"
     ]
    }
   ],
   "source": [
    "#isdigit\n",
    "\n",
    "a = \"145\"\n",
    "\n",
    "print(a.isdigit())\n",
    "print(a.isalnum())\n",
    "print(a.isalpha())\n"
   ]
  },
  {
   "cell_type": "code",
   "execution_count": 26,
   "metadata": {},
   "outputs": [
    {
     "name": "stdout",
     "output_type": "stream",
     "text": [
      "False\n",
      "True\n",
      "True\n"
     ]
    }
   ],
   "source": [
    "#isalpha\n",
    "\n",
    "a = \"ghghhg\"\n",
    "\n",
    "print(a.isdigit())\n",
    "print(a.isalnum())\n",
    "print(a.isalpha())"
   ]
  },
  {
   "cell_type": "code",
   "execution_count": 27,
   "metadata": {},
   "outputs": [
    {
     "name": "stdout",
     "output_type": "stream",
     "text": [
      "False\n",
      "True\n",
      "False\n"
     ]
    }
   ],
   "source": [
    "#isalnum\n",
    "\n",
    "a = \"ghghhg87979\"\n",
    "\n",
    "print(a.isdigit())\n",
    "print(a.isalnum())\n",
    "print(a.isalpha())"
   ]
  },
  {
   "cell_type": "code",
   "execution_count": null,
   "metadata": {},
   "outputs": [],
   "source": [
    "#islower"
   ]
  },
  {
   "cell_type": "code",
   "execution_count": null,
   "metadata": {},
   "outputs": [],
   "source": [
    "#isupper"
   ]
  },
  {
   "cell_type": "code",
   "execution_count": null,
   "metadata": {},
   "outputs": [],
   "source": [
    "#"
   ]
  },
  {
   "cell_type": "code",
   "execution_count": 30,
   "metadata": {},
   "outputs": [
    {
     "name": "stdout",
     "output_type": "stream",
     "text": [
      "4\n"
     ]
    }
   ],
   "source": [
    "#len\n",
    "\n",
    "print(len(\"hhhh\"))"
   ]
  },
  {
   "cell_type": "code",
   "execution_count": null,
   "metadata": {},
   "outputs": [],
   "source": [
    "Strings:\n",
    "\n",
    "Task1:\n",
    "    \n",
    "#collect one string from user (input)\n",
    "#identify middle letter of the string\n",
    "\n",
    "a = \"computer\"\n",
    "\n",
    "a = \"django\"\n",
    "\n",
    "a = \"groovyy\"\n",
    "\n",
    "Task2:\n",
    "    \n",
    "Get two strings from user  example: \n",
    "    \"java\" \"groovy\" ==> java6groovy4\n",
    "   \n",
    "   \"pi\" \"mathematics\"  ===> pi15mathematics2\n",
    "    \n",
    "Task3:\n",
    "    \n",
    "    Get one string from user\n",
    "    \n",
    "    a = \"computer\"\n",
    "    \n",
    "    convert middle character to upper case\n",
    "    \n",
    "    a = \"computer\" ==> compUter\n",
    "    groovyy ==> groOvyy\n",
    "    \n",
    "Task4:\n",
    "    \n",
    "    what's your name ==> hackerrank\n",
    "    \n",
    "Task5:\n",
    "    swapcase\n",
    "    \n",
    "Task6:\n",
    "    Mutation\n",
    "    \n",
    "Task7:\n",
    "    capitalize"
   ]
  },
  {
   "cell_type": "code",
   "execution_count": null,
   "metadata": {},
   "outputs": [],
   "source": [
    "a = \"python\"\n",
    "\n",
    "index = 3\n",
    "value = \"z\"\n",
    "\n",
    "\"pytzon\""
   ]
  }
 ],
 "metadata": {
  "kernelspec": {
   "display_name": "Python 3",
   "language": "python",
   "name": "python3"
  },
  "language_info": {
   "codemirror_mode": {
    "name": "ipython",
    "version": 3
   },
   "file_extension": ".py",
   "mimetype": "text/x-python",
   "name": "python",
   "nbconvert_exporter": "python",
   "pygments_lexer": "ipython3",
   "version": "3.7.6"
  }
 },
 "nbformat": 4,
 "nbformat_minor": 4
}
